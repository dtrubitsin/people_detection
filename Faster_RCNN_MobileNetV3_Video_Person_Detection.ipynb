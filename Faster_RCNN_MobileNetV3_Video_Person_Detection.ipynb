{
  "cells": [
    {
      "cell_type": "markdown",
      "metadata": {
        "id": "ZQ_rbpxRJw2u"
      },
      "source": [
        "## Импорт библиотек"
      ]
    },
    {
      "cell_type": "code",
      "execution_count": 1,
      "metadata": {
        "id": "uSjsnWwbwhDv"
      },
      "outputs": [],
      "source": [
        "import torch\n",
        "import torchvision.transforms as transforms\n",
        "from torchvision.models.detection import fasterrcnn_mobilenet_v3_large_fpn, FasterRCNN_MobileNet_V3_Large_FPN_Weights\n",
        "import cv2\n",
        "\n",
        "import time\n",
        "\n",
        "import numpy as np\n",
        "from IPython.display import clear_output"
      ]
    },
    {
      "cell_type": "markdown",
      "metadata": {
        "id": "79sjQNwHHcSy"
      },
      "source": [
        "## Вспомогательные операции"
      ]
    },
    {
      "cell_type": "code",
      "execution_count": 4,
      "metadata": {
        "id": "35dkmxmyHmTa"
      },
      "outputs": [],
      "source": [
        "!mkdir input\n",
        "!mkdir output"
      ]
    },
    {
      "cell_type": "markdown",
      "metadata": {
        "id": "kNT4qgd-KBJa"
      },
      "source": [
        "Для детекции объектов будет использоваться модель обученная на датасете COCO, поэтому нам нужны имена классов из датасета."
      ]
    },
    {
      "cell_type": "code",
      "execution_count": 5,
      "metadata": {
        "id": "cjdobPnOIBOf"
      },
      "outputs": [],
      "source": [
        "# Список имен классов в датасете COCO\n",
        "coco_names = [\n",
        "    '__background__', 'person', 'bicycle', 'car', 'motorcycle', 'airplane', 'bus',\n",
        "    'train', 'truck', 'boat', 'traffic light', 'fire hydrant', 'N/A', 'stop sign',\n",
        "    'parking meter', 'bench', 'bird', 'cat', 'dog', 'horse', 'sheep', 'cow',\n",
        "    'elephant', 'bear', 'zebra', 'giraffe', 'N/A', 'backpack', 'umbrella', 'N/A', 'N/A',\n",
        "    'handbag', 'tie', 'suitcase', 'frisbee', 'skis', 'snowboard', 'sports ball',\n",
        "    'kite', 'baseball bat', 'baseball glove', 'skateboard', 'surfboard', 'tennis racket',\n",
        "    'bottle', 'N/A', 'wine glass', 'cup', 'fork', 'knife', 'spoon', 'bowl',\n",
        "    'banana', 'apple', 'sandwich', 'orange', 'broccoli', 'carrot', 'hot dog', 'pizza',\n",
        "    'donut', 'cake', 'chair', 'couch', 'potted plant', 'bed', 'N/A', 'dining table',\n",
        "    'N/A', 'N/A', 'toilet', 'N/A', 'tv', 'laptop', 'mouse', 'remote', 'keyboard', 'cell phone',\n",
        "    'microwave', 'oven', 'toaster', 'sink', 'refrigerator', 'N/A', 'book',\n",
        "    'clock', 'vase', 'scissors', 'teddy bear', 'hair drier', 'toothbrush'\n",
        "]\n"
      ]
    },
    {
      "cell_type": "markdown",
      "metadata": {
        "id": "af48VoWpIDT6"
      },
      "source": [
        "## Создание функций для предсказания и отрисовки"
      ]
    },
    {
      "cell_type": "code",
      "execution_count": 6,
      "metadata": {
        "id": "8Dbx7HZFIKhz"
      },
      "outputs": [],
      "source": [
        "# Цвет для отрисовки границ объектов\n",
        "COLOR = [255, 0, 0]  # Красный\n",
        "\n",
        "# Создаем транформацию объекта в вектор\n",
        "transform = transforms.Compose([\n",
        "    transforms.ToTensor(),\n",
        "])\n",
        "\n",
        "def predict(image, model, device, detection_threshold):\n",
        "    '''Предсказание модели.\n",
        "\n",
        "    Функция получает на вход кадр, модель, устройство и порог обнаружения. \n",
        "    Модель получает на вход кадр. Выходом модели являются классы, обнаруженные \n",
        "    в кадре, уровень уверенности в данном классе и границы объектов, найденных в кадре.\n",
        "    Затем оставляются только предсказания для класса \"человек\" соответствующие заданному\n",
        "    порогу. Функция возвращает границы обектов, классы и уровень уверенности.\n",
        "\n",
        "    Args:\n",
        "        image (numpy.ndarray): Входной кадр в формате numpy array.\n",
        "        model (torch.nn.Module): Предобученная модель для предсказаний.\n",
        "        device (torch.device): Устройство (CPU или CUDA), на котором выполняется предсказание.\n",
        "        detection_threshold (float): Порог уверенности для отбора предсказаний.\n",
        "\n",
        "    Returns:\n",
        "        tuple: Кортеж, содержащий три элемента:\n",
        "            - boxes (numpy.ndarray): Границы обнаруженных объектов.\n",
        "            - classes (list of str): Классы обнаруженных объектов.\n",
        "            - scores (numpy.ndarray): Уровень уверенности для обнаруженных объектов.\n",
        "    '''\n",
        "\n",
        "    # Переводим кадр в вектор и переносим на устройство\n",
        "    image = transform(image).to(device)\n",
        "    image = image.unsqueeze(0)  # добавляем размерность батча\n",
        "    outputs = model(image)  # делаем предсказания для кадра\n",
        "\n",
        "    # Получаем все предсказания классов\n",
        "    pred_classes = [coco_names[i] for i in outputs[0]['labels'].cpu().numpy()]\n",
        "\n",
        "    # Получаем все показатели уверенности для классов\n",
        "    pred_scores = outputs[0]['scores'].detach().cpu().numpy()\n",
        "\n",
        "    # Получаем все границы объектов\n",
        "    pred_bboxes = outputs[0]['boxes'].detach().cpu().numpy()\n",
        "\n",
        "    # Оставляем только предсказания для класса с людьми\n",
        "    person_indices = [i for i, label in enumerate(\n",
        "        outputs[0]['labels'].cpu().numpy()) if label == 1]\n",
        "\n",
        "    # Выыбираем границы объектов, уверенность и класс только для людей\n",
        "    person_boxes = pred_bboxes[person_indices]\n",
        "    person_scores = pred_scores[person_indices]\n",
        "    person_classes = [pred_classes[i] for i in person_indices]\n",
        "\n",
        "    # Оставляем только объекты, уверенность в которых больше заданного порога\n",
        "    boxes = person_boxes[person_scores >= detection_threshold].astype(np.int32)\n",
        "    scores = person_scores[person_scores >= detection_threshold]\n",
        "    classes = [person_classes[i] for i in range(\n",
        "        len(person_classes)) if person_scores[i] >= detection_threshold]\n",
        "\n",
        "    return boxes, classes, scores\n",
        "\n",
        "def draw_boxes(boxes, classes, scores, image):\n",
        "    '''Функция для отрисовки предсказанных объектов в кадре.\n",
        "\n",
        "    Функция получает на вход границы объектов, классы, уровень уверенности и кадр.\n",
        "    Идет отрисовка прямоугольника соответствующего границам обнаруженных объектов,\n",
        "    также подписывается класс и уровень уверенности в нем.\n",
        "\n",
        "    На выходе функции получается кадр с отрисованными отъектами.\n",
        "\n",
        "    Args:\n",
        "        boxes (numpy.ndarray): Границы обнаруженных объектов.\n",
        "        classes (list of str): Классы обнаруженных объектов.\n",
        "        scores (numpy.ndarray): Уровень уверенности для обнаруженных объектов.\n",
        "        image (numpy.ndarray): Входной кадр в формате numpy array.\n",
        "\n",
        "    Returns:\n",
        "        numpy.ndarray: Кадр с отрисованными объектами.\n",
        "    '''\n",
        "    # Преобразование RGB в BGR цветовое пространство для правильной работы\n",
        "    image = cv2.cvtColor(np.asarray(image), cv2.COLOR_BGR2RGB)\n",
        "    # Для каждой коробки\n",
        "    for i, box in enumerate(boxes):\n",
        "        # Отображение границы\n",
        "        cv2.rectangle(\n",
        "            image,\n",
        "            (int(box[0]), int(box[1])),\n",
        "            (int(box[2]), int(box[3])),\n",
        "            COLOR, 1\n",
        "        )\n",
        "        # Надпись\n",
        "        cv2.putText(image, f'{classes[i]}: {scores[i]:.2f}', (int(box[0]), int(box[1]-5)),\n",
        "                    cv2.FONT_HERSHEY_SIMPLEX, 0.8, COLOR, 2,\n",
        "                    lineType=cv2.LINE_AA)\n",
        "    return image\n"
      ]
    },
    {
      "cell_type": "markdown",
      "metadata": {
        "id": "m-D9xajiJW08"
      },
      "source": [
        "## Детекция людей на видео"
      ]
    },
    {
      "cell_type": "code",
      "execution_count": 8,
      "metadata": {
        "colab": {
          "base_uri": "https://localhost:8080/"
        },
        "id": "qjcciRkEJuav",
        "outputId": "6c972074-bc07-400b-aabb-4bd95823b472"
      },
      "outputs": [
        {
          "name": "stdout",
          "output_type": "stream",
          "text": [
            "Количество кадров: 705, FPS: 9.016615252324394\n",
            "Средний FPS: 10.430\n"
          ]
        }
      ],
      "source": [
        "# Выбор устройства\n",
        "device = torch.device('cuda' if torch.cuda.is_available() else 'cpu')\n",
        "\n",
        "# Загрузка  предобученной модели\n",
        "model = fasterrcnn_mobilenet_v3_large_fpn(\n",
        "    weights=FasterRCNN_MobileNet_V3_Large_FPN_Weights.DEFAULT)\n",
        "\n",
        "# Перевод модели в режим предсказания и перенос на устройство\n",
        "model = model.eval().to(device)\n",
        "\n",
        "# Указать путь к видеофайлу здесь\n",
        "video_path = 'input/crowd.mp4'\n",
        "\n",
        "# Захват видео\n",
        "cap = cv2.VideoCapture(video_path)\n",
        "\n",
        "if (cap.isOpened() == False):\n",
        "    print('Ошибка в чтении видео. Проверьте путь')\n",
        "\n",
        "# Ширина и высота кадра\n",
        "frame_width = int(cap.get(3))\n",
        "frame_height = int(cap.get(4))\n",
        "\n",
        "# Создание объекта для сохранения видео\n",
        "out = cv2.VideoWriter('/content/outputs/crowd_processed.mp4',\n",
        "                      cv2.VideoWriter_fourcc(*'mp4v'), 30,\n",
        "                      (frame_width, frame_height))\n",
        "\n",
        "frame_count = 0  # Подсчет общего количества кадров\n",
        "total_fps = 0  # Подсчет итогового FPS\n",
        "\n",
        "# Пока видео не закончилось\n",
        "while (cap.isOpened()):\n",
        "    # Захватываем каждый кадр из видео\n",
        "    ret, frame = cap.read()\n",
        "    if ret == True:\n",
        "        # Записываем начальное время для подсчета скорости работы\n",
        "        start_time = time.time()\n",
        "        with torch.no_grad():\n",
        "            # Получить предсказания для текущего кадра\n",
        "            boxes, classes, scores = predict(frame, model, device, 0.7)\n",
        "\n",
        "        # Отрисовка границ объектов и предсказаний\n",
        "        image = draw_boxes(boxes, classes, scores, frame)\n",
        "\n",
        "        # Записываем время окончания обработки кадра\n",
        "        end_time = time.time()\n",
        "        # Считаем время обработки кадра\n",
        "        fps = 1 / (end_time - start_time)\n",
        "        # Добавляем к итоговому FPS\n",
        "        total_fps += fps\n",
        "        # Обновляем счетчик кадров\n",
        "        frame_count += 1\n",
        "        clear_output(wait=True)\n",
        "        print(f\"Количество кадров: {frame_count}, FPS: {fps}\")\n",
        "\n",
        "        # Преобразование BGR в RGB цветовое пространство для правильного отображения\n",
        "        image = cv2.cvtColor(image, cv2.COLOR_BGR2RGB)\n",
        "\n",
        "        # Запись кадра в видео\n",
        "        out.write(image)\n",
        "\n",
        "    else:\n",
        "        break\n",
        "\n",
        "# Закрытие видеопотока\n",
        "cap.release()\n",
        "# Закрытие видеофайла для правильной записи кадров\n",
        "out.release()\n",
        "# Закрытие всех кадров и окон\n",
        "cv2.destroyAllWindows()\n",
        "\n",
        "# Подсчет финального FPS\n",
        "avg_fps = total_fps / frame_count\n",
        "print(f\"Средний FPS: {avg_fps:.3f}\")"
      ]
    },
    {
      "cell_type": "markdown",
      "metadata": {},
      "source": [
        "При запуске модели на Kaggle с GPU P100 средний FPS равен 16.446.\n",
        "Это в 2 раза меньше чем обработка в реальном времени. Для улучшения резульата можно предпринять следующие шаги:\n",
        "- Использование другой архитектуры нейронной сети, например YOLO;\n",
        "- Использование больших вычислительных мощностей.\n",
        "\n",
        "Выводы по качеству работы модели:\n",
        "- Модель достаточно точно определяет людей на близком и среднем расстоянии;\n",
        "- Люди, которые находятся вдали уже не определяются моделью;\n",
        "- При проходе человека за препядствием он теряется.\n",
        "\n",
        "Для того чтобы исправить эти недостатки можно дообучить модель на другом датасете, который будет специализирован на людях на улице. Например, использовать данную модель как backbone, а поверх нее обучить модель, которая будет детектировать только людей."
      ]
    },
    {
      "cell_type": "markdown",
      "metadata": {},
      "source": []
    }
  ],
  "metadata": {
    "accelerator": "GPU",
    "colab": {
      "provenance": []
    },
    "kernelspec": {
      "display_name": "Python 3",
      "name": "python3"
    },
    "language_info": {
      "codemirror_mode": {
        "name": "ipython",
        "version": 3
      },
      "file_extension": ".py",
      "mimetype": "text/x-python",
      "name": "python",
      "nbconvert_exporter": "python",
      "pygments_lexer": "ipython3",
      "version": "3.11.7"
    }
  },
  "nbformat": 4,
  "nbformat_minor": 0
}
